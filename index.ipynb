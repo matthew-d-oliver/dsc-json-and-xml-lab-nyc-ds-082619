{
 "cells": [
  {
   "cell_type": "markdown",
   "metadata": {},
   "source": [
    "# JSON and XML - Lab"
   ]
  },
  {
   "cell_type": "markdown",
   "metadata": {},
   "source": [
    "## Introduction\n",
    "\n",
    "In this lab, you'll practice navigating JSON and XML data structures."
   ]
  },
  {
   "cell_type": "markdown",
   "metadata": {},
   "source": [
    "## Objectives\n",
    "You will be able to:\n",
    "* Effectively use the JSON module to load and parse JSON documents\n",
    "* Read and access data stored in JSON and XML\n",
    "* Compare  and contrast the JSON and XML as data interchange types\n"
   ]
  },
  {
   "cell_type": "markdown",
   "metadata": {},
   "source": [
    "## XML"
   ]
  },
  {
   "cell_type": "code",
   "execution_count": 2,
   "metadata": {},
   "outputs": [],
   "source": [
    "import xml.etree.ElementTree as ET"
   ]
  },
  {
   "cell_type": "code",
   "execution_count": null,
   "metadata": {},
   "outputs": [],
   "source": []
  },
  {
   "cell_type": "code",
   "execution_count": 3,
   "metadata": {},
   "outputs": [
    {
     "name": "stdout",
     "output_type": "stream",
     "text": [
      "\u001b[0m\u001b[01;32m2001_Campaign_Contributions.csv\u001b[0m*  \u001b[01;32mLICENSE.md\u001b[0m*                      README.md\r\n",
      "\u001b[01;32mCONTRIBUTING.md\u001b[0m*                  \u001b[01;32mnyc_2001_campaign_finance.json\u001b[0m*\r\n",
      "index.ipynb                       nyc_2001_campaign_finance.xml\r\n"
     ]
    }
   ],
   "source": [
    "ls"
   ]
  },
  {
   "cell_type": "markdown",
   "metadata": {},
   "source": [
    "### Create an XML tree and retrieve the root tag."
   ]
  },
  {
   "cell_type": "code",
   "execution_count": 4,
   "metadata": {},
   "outputs": [],
   "source": [
    "tree = ET.parse('nyc_2001_campaign_finance.xml')\n",
    "root = tree.getroot()"
   ]
  },
  {
   "cell_type": "markdown",
   "metadata": {},
   "source": [
    "### How many direct descendents does the root tag have?"
   ]
  },
  {
   "cell_type": "code",
   "execution_count": 5,
   "metadata": {},
   "outputs": [
    {
     "name": "stdout",
     "output_type": "stream",
     "text": [
      "row {}\n"
     ]
    }
   ],
   "source": [
    "for child in root:\n",
    "    print(child.tag, child.attrib)"
   ]
  },
  {
   "cell_type": "markdown",
   "metadata": {},
   "source": [
    "### How many different types of tags are there within the entire XML file?"
   ]
  },
  {
   "cell_type": "code",
   "execution_count": 6,
   "metadata": {},
   "outputs": [
    {
     "name": "stdout",
     "output_type": "stream",
     "text": [
      "Child:\n",
      "\n",
      "row {}\n",
      "Grandchildren:\n",
      "row {'_id': '1', '_uuid': 'E3E9CC9F-7443-43F6-94AF-B5A0F802DBA1', '_position': '1', '_address': 'https://data.cityofnewyork.us/resource/_8dhd-zvi6/1'}\n",
      "row {'_id': '2', '_uuid': '9D257416-581A-4C42-85CC-B6EAD9DED97F', '_position': '2', '_address': 'https://data.cityofnewyork.us/resource/_8dhd-zvi6/2'}\n",
      "row {'_id': '3', '_uuid': 'B80D7891-93CF-49E8-86E8-182B618E68F2', '_position': '3', '_address': 'https://data.cityofnewyork.us/resource/_8dhd-zvi6/3'}\n",
      "row {'_id': '4', '_uuid': 'BB012003-78F5-406D-8A87-7FF8A425EE3F', '_position': '4', '_address': 'https://data.cityofnewyork.us/resource/_8dhd-zvi6/4'}\n",
      "row {'_id': '5', '_uuid': '945825F9-2F5D-47C2-A16B-75B93E61E1AD', '_position': '5', '_address': 'https://data.cityofnewyork.us/resource/_8dhd-zvi6/5'}\n",
      "row {'_id': '6', '_uuid': '9546F502-39D6-4340-B37E-60682EB22274', '_position': '6', '_address': 'https://data.cityofnewyork.us/resource/_8dhd-zvi6/6'}\n",
      "row {'_id': '7', '_uuid': '4B6C74AD-17A0-4B7E-973A-2592D68A687D', '_position': '7', '_address': 'https://data.cityofnewyork.us/resource/_8dhd-zvi6/7'}\n",
      "row {'_id': '8', '_uuid': 'ABD22A5E-B8DA-446F-82BC-93AA11AF99DF', '_position': '8', '_address': 'https://data.cityofnewyork.us/resource/_8dhd-zvi6/8'}\n",
      "row {'_id': '9', '_uuid': '7CD36FB5-600F-44F5-A10C-CB3434B6805F', '_position': '9', '_address': 'https://data.cityofnewyork.us/resource/_8dhd-zvi6/9'}\n",
      "\n",
      "\n",
      "\n",
      "285\n"
     ]
    }
   ],
   "source": [
    "#Count is added here to limit the number of results\n",
    "count = 0\n",
    "for child in root:\n",
    "    print('Child:\\n')\n",
    "    print(child.tag, child.attrib)\n",
    "    print('Grandchildren:')\n",
    "    for grandchild in child:\n",
    "        count += 1\n",
    "        if count < 10:\n",
    "            print(grandchild.tag, grandchild.attrib)\n",
    "    print('\\n\\n')\n",
    "print(count)"
   ]
  },
  {
   "cell_type": "markdown",
   "metadata": {},
   "source": [
    "### Create a DataFrame listing the number of each type of tag. \n",
    "Sort the DataFrame in descending order by the tag count. The first entry should demonstrate there are 286 row tags in the XML file.   \n",
    "(Your DataFrame will be a single column, so could also be thought of as a Series.)"
   ]
  },
  {
   "cell_type": "code",
   "execution_count": null,
   "metadata": {},
   "outputs": [],
   "source": [
    "import pandas as pd"
   ]
  },
  {
   "cell_type": "code",
   "execution_count": null,
   "metadata": {},
   "outputs": [],
   "source": [
    "#Your code here"
   ]
  },
  {
   "cell_type": "markdown",
   "metadata": {},
   "source": [
    "## JSON"
   ]
  },
  {
   "cell_type": "markdown",
   "metadata": {},
   "source": [
    "### Open the same dataset from json"
   ]
  },
  {
   "cell_type": "code",
   "execution_count": 8,
   "metadata": {},
   "outputs": [
    {
     "name": "stdout",
     "output_type": "stream",
     "text": [
      "<class 'dict'>\n"
     ]
    }
   ],
   "source": [
    "import json\n",
    "f = open('nyc_2001_campaign_finance.json')\n",
    "data = json.load(f)\n",
    "print(type(data))"
   ]
  },
  {
   "cell_type": "markdown",
   "metadata": {},
   "source": [
    "### What is the root data type of the json file?"
   ]
  },
  {
   "cell_type": "code",
   "execution_count": 9,
   "metadata": {},
   "outputs": [
    {
     "data": {
      "text/plain": [
       "dict"
      ]
     },
     "execution_count": 9,
     "metadata": {},
     "output_type": "execute_result"
    }
   ],
   "source": [
    "type(data)"
   ]
  },
  {
   "cell_type": "markdown",
   "metadata": {},
   "source": [
    "### Navigate to the 'data' key of your loaded json object. What data type is this?"
   ]
  },
  {
   "cell_type": "code",
   "execution_count": 23,
   "metadata": {},
   "outputs": [
    {
     "data": {
      "text/plain": [
       "list"
      ]
     },
     "execution_count": 23,
     "metadata": {},
     "output_type": "execute_result"
    }
   ],
   "source": [
    "type(data['data'])\n"
   ]
  },
  {
   "cell_type": "markdown",
   "metadata": {},
   "source": [
    "### Preview the first entry from the value returned by the 'data' key above."
   ]
  },
  {
   "cell_type": "code",
   "execution_count": 24,
   "metadata": {},
   "outputs": [
    {
     "data": {
      "text/plain": [
       "[1,\n",
       " 'E3E9CC9F-7443-43F6-94AF-B5A0F802DBA1',\n",
       " 1,\n",
       " 1315925633,\n",
       " '392904',\n",
       " 1315925633,\n",
       " '392904',\n",
       " '{\\n  \"invalidCells\" : {\\n    \"1519001\" : \"TOTALPAY\",\\n    \"1518998\" : \"PRIMARYPAY\",\\n    \"1519000\" : \"RUNOFFPAY\",\\n    \"1518999\" : \"GENERALPAY\",\\n    \"1518994\" : \"OFFICECD\",\\n    \"1518996\" : \"OFFICEDIST\",\\n    \"1518991\" : \"ELECTION\"\\n  }\\n}',\n",
       " None,\n",
       " 'CANDID',\n",
       " 'CANDNAME',\n",
       " None,\n",
       " 'OFFICEBORO',\n",
       " None,\n",
       " 'CANCLASS',\n",
       " None,\n",
       " None,\n",
       " None,\n",
       " None]"
      ]
     },
     "execution_count": 24,
     "metadata": {},
     "output_type": "execute_result"
    }
   ],
   "source": [
    "d=data['data']\n",
    "d[0]"
   ]
  },
  {
   "cell_type": "markdown",
   "metadata": {},
   "source": [
    "### Preview the Entry under meta -> view -> columns (the keys of three successively nested dictionaries)"
   ]
  },
  {
   "cell_type": "code",
   "execution_count": 32,
   "metadata": {},
   "outputs": [
    {
     "data": {
      "text/plain": [
       "dict_keys(['id', 'name', 'attribution', 'averageRating', 'category', 'createdAt', 'description', 'displayType', 'downloadCount', 'hideFromCatalog', 'hideFromDataJson', 'indexUpdatedAt', 'newBackend', 'numberOfComments', 'oid', 'provenance', 'publicationAppendEnabled', 'publicationDate', 'publicationGroup', 'publicationStage', 'rowClass', 'rowsUpdatedAt', 'rowsUpdatedBy', 'tableId', 'totalTimesRated', 'viewCount', 'viewLastModified', 'viewType', 'columns', 'grants', 'metadata', 'owner', 'query', 'rights', 'tableAuthor', 'tags', 'flags'])"
      ]
     },
     "execution_count": 32,
     "metadata": {},
     "output_type": "execute_result"
    }
   ],
   "source": [
    "data['meta']['view']."
   ]
  },
  {
   "cell_type": "markdown",
   "metadata": {},
   "source": [
    "### Create a DataFrame from your json data\n",
    "The previous two questions previewed one entry from the data object within the json file, as well as the column details associated with that data from the meta entry within the json file. Both should have 19 entries. Create a DataFrame of the data. Be sure to use the information from the meta entry to add appropriate column names to your DataFrame."
   ]
  },
  {
   "cell_type": "code",
   "execution_count": 35,
   "metadata": {},
   "outputs": [
    {
     "data": {
      "text/html": [
       "<div>\n",
       "<style scoped>\n",
       "    .dataframe tbody tr th:only-of-type {\n",
       "        vertical-align: middle;\n",
       "    }\n",
       "\n",
       "    .dataframe tbody tr th {\n",
       "        vertical-align: top;\n",
       "    }\n",
       "\n",
       "    .dataframe thead th {\n",
       "        text-align: right;\n",
       "    }\n",
       "</style>\n",
       "<table border=\"1\" class=\"dataframe\">\n",
       "  <thead>\n",
       "    <tr style=\"text-align: right;\">\n",
       "      <th></th>\n",
       "      <th>0</th>\n",
       "      <th>1</th>\n",
       "      <th>2</th>\n",
       "      <th>3</th>\n",
       "      <th>4</th>\n",
       "      <th>5</th>\n",
       "      <th>6</th>\n",
       "      <th>7</th>\n",
       "      <th>8</th>\n",
       "      <th>9</th>\n",
       "      <th>10</th>\n",
       "      <th>11</th>\n",
       "      <th>12</th>\n",
       "      <th>13</th>\n",
       "      <th>14</th>\n",
       "      <th>15</th>\n",
       "      <th>16</th>\n",
       "      <th>17</th>\n",
       "      <th>18</th>\n",
       "    </tr>\n",
       "  </thead>\n",
       "  <tbody>\n",
       "    <tr>\n",
       "      <th>0</th>\n",
       "      <td>1</td>\n",
       "      <td>E3E9CC9F-7443-43F6-94AF-B5A0F802DBA1</td>\n",
       "      <td>1</td>\n",
       "      <td>1315925633</td>\n",
       "      <td>392904</td>\n",
       "      <td>1315925633</td>\n",
       "      <td>392904</td>\n",
       "      <td>{\\n  \"invalidCells\" : {\\n    \"1519001\" : \"TOTA...</td>\n",
       "      <td>None</td>\n",
       "      <td>CANDID</td>\n",
       "      <td>CANDNAME</td>\n",
       "      <td>None</td>\n",
       "      <td>OFFICEBORO</td>\n",
       "      <td>None</td>\n",
       "      <td>CANCLASS</td>\n",
       "      <td>None</td>\n",
       "      <td>None</td>\n",
       "      <td>None</td>\n",
       "      <td>None</td>\n",
       "    </tr>\n",
       "    <tr>\n",
       "      <th>1</th>\n",
       "      <td>2</td>\n",
       "      <td>9D257416-581A-4C42-85CC-B6EAD9DED97F</td>\n",
       "      <td>2</td>\n",
       "      <td>1315925633</td>\n",
       "      <td>392904</td>\n",
       "      <td>1315925633</td>\n",
       "      <td>392904</td>\n",
       "      <td>{\\n}</td>\n",
       "      <td>2001</td>\n",
       "      <td>B4</td>\n",
       "      <td>Aboulafia, Sandy</td>\n",
       "      <td>5</td>\n",
       "      <td>None</td>\n",
       "      <td>44</td>\n",
       "      <td>P</td>\n",
       "      <td>45410.00</td>\n",
       "      <td>0</td>\n",
       "      <td>0</td>\n",
       "      <td>45410.00</td>\n",
       "    </tr>\n",
       "    <tr>\n",
       "      <th>2</th>\n",
       "      <td>3</td>\n",
       "      <td>B80D7891-93CF-49E8-86E8-182B618E68F2</td>\n",
       "      <td>3</td>\n",
       "      <td>1315925633</td>\n",
       "      <td>392904</td>\n",
       "      <td>1315925633</td>\n",
       "      <td>392904</td>\n",
       "      <td>{\\n}</td>\n",
       "      <td>2001</td>\n",
       "      <td>445</td>\n",
       "      <td>Adams, Jackie R</td>\n",
       "      <td>5</td>\n",
       "      <td>None</td>\n",
       "      <td>7</td>\n",
       "      <td>P</td>\n",
       "      <td>11073.00</td>\n",
       "      <td>0</td>\n",
       "      <td>0</td>\n",
       "      <td>11073.00</td>\n",
       "    </tr>\n",
       "    <tr>\n",
       "      <th>3</th>\n",
       "      <td>4</td>\n",
       "      <td>BB012003-78F5-406D-8A87-7FF8A425EE3F</td>\n",
       "      <td>4</td>\n",
       "      <td>1315925633</td>\n",
       "      <td>392904</td>\n",
       "      <td>1315925633</td>\n",
       "      <td>392904</td>\n",
       "      <td>{\\n}</td>\n",
       "      <td>2001</td>\n",
       "      <td>HF</td>\n",
       "      <td>Addabbo, Joseph P</td>\n",
       "      <td>5</td>\n",
       "      <td>None</td>\n",
       "      <td>32</td>\n",
       "      <td>P</td>\n",
       "      <td>75350.00</td>\n",
       "      <td>73970.00</td>\n",
       "      <td>0</td>\n",
       "      <td>149320.00</td>\n",
       "    </tr>\n",
       "    <tr>\n",
       "      <th>4</th>\n",
       "      <td>5</td>\n",
       "      <td>945825F9-2F5D-47C2-A16B-75B93E61E1AD</td>\n",
       "      <td>5</td>\n",
       "      <td>1315925633</td>\n",
       "      <td>392904</td>\n",
       "      <td>1315925633</td>\n",
       "      <td>392904</td>\n",
       "      <td>{\\n}</td>\n",
       "      <td>2001</td>\n",
       "      <td>IR</td>\n",
       "      <td>Alamo-Estrada, Agustin</td>\n",
       "      <td>5</td>\n",
       "      <td>None</td>\n",
       "      <td>14</td>\n",
       "      <td>P</td>\n",
       "      <td>25000.00</td>\n",
       "      <td>2400.00</td>\n",
       "      <td>0</td>\n",
       "      <td>27400.00</td>\n",
       "    </tr>\n",
       "  </tbody>\n",
       "</table>\n",
       "</div>"
      ],
      "text/plain": [
       "   0                                     1   2           3       4   \\\n",
       "0   1  E3E9CC9F-7443-43F6-94AF-B5A0F802DBA1   1  1315925633  392904   \n",
       "1   2  9D257416-581A-4C42-85CC-B6EAD9DED97F   2  1315925633  392904   \n",
       "2   3  B80D7891-93CF-49E8-86E8-182B618E68F2   3  1315925633  392904   \n",
       "3   4  BB012003-78F5-406D-8A87-7FF8A425EE3F   4  1315925633  392904   \n",
       "4   5  945825F9-2F5D-47C2-A16B-75B93E61E1AD   5  1315925633  392904   \n",
       "\n",
       "           5       6                                                  7   \\\n",
       "0  1315925633  392904  {\\n  \"invalidCells\" : {\\n    \"1519001\" : \"TOTA...   \n",
       "1  1315925633  392904                                               {\\n}   \n",
       "2  1315925633  392904                                               {\\n}   \n",
       "3  1315925633  392904                                               {\\n}   \n",
       "4  1315925633  392904                                               {\\n}   \n",
       "\n",
       "     8       9                       10    11          12    13        14  \\\n",
       "0  None  CANDID                CANDNAME  None  OFFICEBORO  None  CANCLASS   \n",
       "1  2001      B4        Aboulafia, Sandy     5        None    44         P   \n",
       "2  2001     445         Adams, Jackie R     5        None     7         P   \n",
       "3  2001      HF       Addabbo, Joseph P     5        None    32         P   \n",
       "4  2001      IR  Alamo-Estrada, Agustin     5        None    14         P   \n",
       "\n",
       "         15        16    17         18  \n",
       "0      None      None  None       None  \n",
       "1  45410.00         0     0   45410.00  \n",
       "2  11073.00         0     0   11073.00  \n",
       "3  75350.00  73970.00     0  149320.00  \n",
       "4  25000.00   2400.00     0   27400.00  "
      ]
     },
     "execution_count": 35,
     "metadata": {},
     "output_type": "execute_result"
    }
   ],
   "source": [
    "import pandas as pd \n",
    "df=pd.DataFrame(data['data'])\n",
    "df.head()\n"
   ]
  },
  {
   "cell_type": "markdown",
   "metadata": {},
   "source": [
    "### What's wrong with the first row of the DataFrame?"
   ]
  },
  {
   "cell_type": "code",
   "execution_count": 36,
   "metadata": {},
   "outputs": [
    {
     "ename": "ValueError",
     "evalue": "Length mismatch: Expected axis has 19 elements, new values have 285 elements",
     "output_type": "error",
     "traceback": [
      "\u001b[0;31m\u001b[0m",
      "\u001b[0;31mValueError\u001b[0mTraceback (most recent call last)",
      "\u001b[0;32m<ipython-input-36-ae0d6d68c89c>\u001b[0m in \u001b[0;36m<module>\u001b[0;34m()\u001b[0m\n\u001b[0;32m----> 1\u001b[0;31m \u001b[0mdf\u001b[0m\u001b[0;34m.\u001b[0m\u001b[0mcolumns\u001b[0m\u001b[0;34m=\u001b[0m\u001b[0mdf\u001b[0m\u001b[0;34m[\u001b[0m\u001b[0;36m0\u001b[0m\u001b[0;34m]\u001b[0m\u001b[0;34m\u001b[0m\u001b[0m\n\u001b[0m",
      "\u001b[0;32m/opt/conda/envs/learn-env/lib/python3.6/site-packages/pandas/core/generic.py\u001b[0m in \u001b[0;36m__setattr__\u001b[0;34m(self, name, value)\u001b[0m\n\u001b[1;32m   4387\u001b[0m         \u001b[0;32mtry\u001b[0m\u001b[0;34m:\u001b[0m\u001b[0;34m\u001b[0m\u001b[0m\n\u001b[1;32m   4388\u001b[0m             \u001b[0mobject\u001b[0m\u001b[0;34m.\u001b[0m\u001b[0m__getattribute__\u001b[0m\u001b[0;34m(\u001b[0m\u001b[0mself\u001b[0m\u001b[0;34m,\u001b[0m \u001b[0mname\u001b[0m\u001b[0;34m)\u001b[0m\u001b[0;34m\u001b[0m\u001b[0m\n\u001b[0;32m-> 4389\u001b[0;31m             \u001b[0;32mreturn\u001b[0m \u001b[0mobject\u001b[0m\u001b[0;34m.\u001b[0m\u001b[0m__setattr__\u001b[0m\u001b[0;34m(\u001b[0m\u001b[0mself\u001b[0m\u001b[0;34m,\u001b[0m \u001b[0mname\u001b[0m\u001b[0;34m,\u001b[0m \u001b[0mvalue\u001b[0m\u001b[0;34m)\u001b[0m\u001b[0;34m\u001b[0m\u001b[0m\n\u001b[0m\u001b[1;32m   4390\u001b[0m         \u001b[0;32mexcept\u001b[0m \u001b[0mAttributeError\u001b[0m\u001b[0;34m:\u001b[0m\u001b[0;34m\u001b[0m\u001b[0m\n\u001b[1;32m   4391\u001b[0m             \u001b[0;32mpass\u001b[0m\u001b[0;34m\u001b[0m\u001b[0m\n",
      "\u001b[0;32mpandas/_libs/properties.pyx\u001b[0m in \u001b[0;36mpandas._libs.properties.AxisProperty.__set__\u001b[0;34m()\u001b[0m\n",
      "\u001b[0;32m/opt/conda/envs/learn-env/lib/python3.6/site-packages/pandas/core/generic.py\u001b[0m in \u001b[0;36m_set_axis\u001b[0;34m(self, axis, labels)\u001b[0m\n\u001b[1;32m    644\u001b[0m \u001b[0;34m\u001b[0m\u001b[0m\n\u001b[1;32m    645\u001b[0m     \u001b[0;32mdef\u001b[0m \u001b[0m_set_axis\u001b[0m\u001b[0;34m(\u001b[0m\u001b[0mself\u001b[0m\u001b[0;34m,\u001b[0m \u001b[0maxis\u001b[0m\u001b[0;34m,\u001b[0m \u001b[0mlabels\u001b[0m\u001b[0;34m)\u001b[0m\u001b[0;34m:\u001b[0m\u001b[0;34m\u001b[0m\u001b[0m\n\u001b[0;32m--> 646\u001b[0;31m         \u001b[0mself\u001b[0m\u001b[0;34m.\u001b[0m\u001b[0m_data\u001b[0m\u001b[0;34m.\u001b[0m\u001b[0mset_axis\u001b[0m\u001b[0;34m(\u001b[0m\u001b[0maxis\u001b[0m\u001b[0;34m,\u001b[0m \u001b[0mlabels\u001b[0m\u001b[0;34m)\u001b[0m\u001b[0;34m\u001b[0m\u001b[0m\n\u001b[0m\u001b[1;32m    647\u001b[0m         \u001b[0mself\u001b[0m\u001b[0;34m.\u001b[0m\u001b[0m_clear_item_cache\u001b[0m\u001b[0;34m(\u001b[0m\u001b[0;34m)\u001b[0m\u001b[0;34m\u001b[0m\u001b[0m\n\u001b[1;32m    648\u001b[0m \u001b[0;34m\u001b[0m\u001b[0m\n",
      "\u001b[0;32m/opt/conda/envs/learn-env/lib/python3.6/site-packages/pandas/core/internals.py\u001b[0m in \u001b[0;36mset_axis\u001b[0;34m(self, axis, new_labels)\u001b[0m\n\u001b[1;32m   3321\u001b[0m             raise ValueError(\n\u001b[1;32m   3322\u001b[0m                 \u001b[0;34m'Length mismatch: Expected axis has {old} elements, new '\u001b[0m\u001b[0;34m\u001b[0m\u001b[0m\n\u001b[0;32m-> 3323\u001b[0;31m                 'values have {new} elements'.format(old=old_len, new=new_len))\n\u001b[0m\u001b[1;32m   3324\u001b[0m \u001b[0;34m\u001b[0m\u001b[0m\n\u001b[1;32m   3325\u001b[0m         \u001b[0mself\u001b[0m\u001b[0;34m.\u001b[0m\u001b[0maxes\u001b[0m\u001b[0;34m[\u001b[0m\u001b[0maxis\u001b[0m\u001b[0;34m]\u001b[0m \u001b[0;34m=\u001b[0m \u001b[0mnew_labels\u001b[0m\u001b[0;34m\u001b[0m\u001b[0m\n",
      "\u001b[0;31mValueError\u001b[0m: Length mismatch: Expected axis has 19 elements, new values have 285 elements"
     ]
    }
   ],
   "source": [
    "df.columns=df[0]"
   ]
  },
  {
   "cell_type": "code",
   "execution_count": 37,
   "metadata": {},
   "outputs": [
    {
     "data": {
      "text/plain": [
       "0        1\n",
       "1        2\n",
       "2        3\n",
       "3        4\n",
       "4        5\n",
       "5        6\n",
       "6        7\n",
       "7        8\n",
       "8        9\n",
       "9       10\n",
       "10      11\n",
       "11      12\n",
       "12      13\n",
       "13      14\n",
       "14      15\n",
       "15      16\n",
       "16      17\n",
       "17      18\n",
       "18      19\n",
       "19      20\n",
       "20      21\n",
       "21      22\n",
       "22      23\n",
       "23      24\n",
       "24      25\n",
       "25      26\n",
       "26      27\n",
       "27      28\n",
       "28      29\n",
       "29      30\n",
       "      ... \n",
       "255    256\n",
       "256    257\n",
       "257    258\n",
       "258    259\n",
       "259    260\n",
       "260    261\n",
       "261    262\n",
       "262    263\n",
       "263    264\n",
       "264    265\n",
       "265    266\n",
       "266    267\n",
       "267    268\n",
       "268    269\n",
       "269    270\n",
       "270    271\n",
       "271    272\n",
       "272    273\n",
       "273    274\n",
       "274    275\n",
       "275    276\n",
       "276    277\n",
       "277    278\n",
       "278    279\n",
       "279    280\n",
       "280    281\n",
       "281    282\n",
       "282    283\n",
       "283    284\n",
       "284    285\n",
       "Name: 0, Length: 285, dtype: int64"
      ]
     },
     "execution_count": 37,
     "metadata": {},
     "output_type": "execute_result"
    }
   ],
   "source": [
    "df[0]"
   ]
  },
  {
   "cell_type": "markdown",
   "metadata": {},
   "source": [
    "#Your answer here"
   ]
  },
  {
   "cell_type": "markdown",
   "metadata": {},
   "source": [
    "## Summary\n",
    "\n",
    "Congratulations! You've started exploring some more complicated data structures used for the web and got to practice data munging and exploring!"
   ]
  }
 ],
 "metadata": {
  "kernelspec": {
   "display_name": "Python 3",
   "language": "python",
   "name": "python3"
  },
  "language_info": {
   "codemirror_mode": {
    "name": "ipython",
    "version": 3
   },
   "file_extension": ".py",
   "mimetype": "text/x-python",
   "name": "python",
   "nbconvert_exporter": "python",
   "pygments_lexer": "ipython3",
   "version": "3.6.6"
  }
 },
 "nbformat": 4,
 "nbformat_minor": 2
}
